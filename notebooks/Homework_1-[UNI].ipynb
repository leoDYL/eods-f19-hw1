{
 "cells": [
  {
   "cell_type": "markdown",
   "metadata": {},
   "source": [
    "# Homework 1\n",
    "\n",
    "## [Name] - [UNI]\n",
    "\n",
    "### Due: Sat Oct. 12 @ 11:59pm"
   ]
  },
  {
   "cell_type": "markdown",
   "metadata": {},
   "source": [
    "In this homework we'll do some data exploration and perform an A/B test.\n",
    "\n",
    "\n",
    "## Instructions\n",
    "\n",
    "Follow the comments below and fill in the blanks (____) to complete.\n",
    "\n",
    "Where a text response is asked for, please enter as a comment, starting each line with #."
   ]
  },
  {
   "cell_type": "markdown",
   "metadata": {},
   "source": [
    "# Environment Setup"
   ]
  },
  {
   "cell_type": "code",
   "execution_count": null,
   "metadata": {},
   "outputs": [],
   "source": [
    "import pandas as pd\n",
    "import numpy as np\n",
    "import seaborn as sns\n",
    "import matplotlib.pylab as plt\n",
    "\n",
    "sns.set_style('darkgrid')\n",
    "\n",
    "%matplotlib inline"
   ]
  },
  {
   "cell_type": "markdown",
   "metadata": {},
   "source": [
    "## Part 1: Data Exploration\n",
    "\n",
    "One data science task, and a common one used for data science interviews, is to predict defaults on loans.<br>\n",
    "We're going to load a subset of a common loan dataset and explore some of the features.\n",
    "\n",
    "Here is a brief description of the features included:\n",
    "\n",
    "- **loan_amnt**: The amount of money applied for\n",
    "- **term**: The period over which the load should be repaid\n",
    "- **annual_inc**: Annual income of the borrower\n",
    "- **purpose**: The purpose of the loan, such as: credit_card, debt_consolidation, etc.\n",
    "- **home_ownership**: The borrower's relationship with their primary residence\n",
    "- **outcome**: The result of the loan"
   ]
  },
  {
   "cell_type": "code",
   "execution_count": null,
   "metadata": {},
   "outputs": [],
   "source": [
    "# 1. (1pt) Load the data from ../data/load_data_subset.csv into the variable df\n",
    "\n",
    "df = ____"
   ]
  },
  {
   "cell_type": "code",
   "execution_count": null,
   "metadata": {},
   "outputs": [],
   "source": [
    "# 2. (1pt) Print out information about the dataframe using .info()\n",
    "\n",
    "____"
   ]
  },
  {
   "cell_type": "code",
   "execution_count": null,
   "metadata": {},
   "outputs": [],
   "source": [
    "# 3. (1pt) Looking at the info print out, how many values are missing (null)?\n",
    "\n",
    "# ____"
   ]
  },
  {
   "cell_type": "code",
   "execution_count": null,
   "metadata": {},
   "outputs": [],
   "source": [
    "# 4. (1pt) Using .shape, how many rows does the dataset have?\n",
    "\n",
    "print(f'dataframe has {____} rows')"
   ]
  },
  {
   "cell_type": "code",
   "execution_count": null,
   "metadata": {},
   "outputs": [],
   "source": [
    "# 5. (1pt) Print the first 5 rows of the dataset using .head\n",
    "\n",
    "____"
   ]
  },
  {
   "cell_type": "code",
   "execution_count": null,
   "metadata": {},
   "outputs": [],
   "source": [
    "# 6. (1pt) Print out rows with labels 100 to 104 inclusive, with all columns, using .loc\n",
    "#   Note that we're using row labels and not positional index, so use .loc instead of .iloc\n",
    "\n",
    "____"
   ]
  },
  {
   "cell_type": "code",
   "execution_count": null,
   "metadata": {},
   "outputs": [],
   "source": [
    "# 7. (1pt) What appears to be one numeric feature included in the dataset (column label)?\n",
    "\n",
    "# ____"
   ]
  },
  {
   "cell_type": "code",
   "execution_count": null,
   "metadata": {},
   "outputs": [],
   "source": [
    "# 8. (1pt) What appears to be one categorical feature in the dataset?\n",
    "\n",
    "# ____"
   ]
  },
  {
   "cell_type": "code",
   "execution_count": null,
   "metadata": {},
   "outputs": [],
   "source": [
    "# 9. (1pt) What appears to be one ordinal feature in the dataset?\n",
    "\n",
    "# ____"
   ]
  },
  {
   "cell_type": "code",
   "execution_count": null,
   "metadata": {},
   "outputs": [],
   "source": [
    "# 10. (1pt) Plot the frequencies of the values in 'purpose' using .value_counts() and .plot.bar()\n",
    "____;\n",
    "\n",
    "# 11. (1pt) label the y axis as 'frequency'\n",
    "____;"
   ]
  },
  {
   "cell_type": "code",
   "execution_count": null,
   "metadata": {},
   "outputs": [],
   "source": [
    "# 12. (1pt) Print out the summary statistics of the annual_inc column using .describe()\n",
    "\n",
    "____"
   ]
  },
  {
   "cell_type": "code",
   "execution_count": null,
   "metadata": {},
   "outputs": [],
   "source": [
    "# There appears to be a fairly large difference between mean and median\n",
    "\n",
    "# 13. (1pt) calculate the mean of annual_inc using .mean()\n",
    "annual_inc_mean = ____\n",
    "\n",
    "# 14. (1pt) calculate the median of annual_inc using .median()\n",
    "annual_inc_median = ____\n",
    "\n",
    "# 15. (1pt) what is the difference (to 2 significant digits) between the mean and median of annual_inc?\n",
    "diff = ____\n",
    "print(f'mean - median = {diff:0.2f}')"
   ]
  },
  {
   "cell_type": "code",
   "execution_count": null,
   "metadata": {},
   "outputs": [],
   "source": [
    "# 16. (1pt) Why might there be such a large difference between mean and median?\n",
    "\n",
    "# ____"
   ]
  },
  {
   "cell_type": "code",
   "execution_count": null,
   "metadata": {},
   "outputs": [],
   "source": [
    "# 17. (1pt) Generate a boxplot of annual_inc using sns.boxplot\n",
    "____;"
   ]
  },
  {
   "cell_type": "code",
   "execution_count": null,
   "metadata": {},
   "outputs": [],
   "source": [
    "# It certainly looks like annual_inc is skewed to the right.\n",
    "\n",
    "# 18. (1pt) What is the 99th percentile of annual_inc? (use np.percentile)\n",
    "#    Eg. Where is the cutoff where we remove extremely high values but keep 99% of the data?\n",
    "annual_inc_99 = ____\n",
    "print(f'99th percentile of annual_inc: {annual_inc_99:0.2f}')\n",
    "      \n",
    "# 19. (3pt) Plot loan_amnt (x-axis) against annual_inc (y-axis) using jointplot \n",
    "#     only including rows where annual_inc < annual_inc_99\n",
    "____;"
   ]
  },
  {
   "cell_type": "code",
   "execution_count": null,
   "metadata": {},
   "outputs": [],
   "source": [
    "# As we saw above, 'debt_consolidation' is the most common purpose for a loan.\n",
    "#\n",
    "# 20. (2pt) What is the mean loan_amnt where:\n",
    "#    df.purpose == 'debt_consolidation' and df.annual_inc < annual_inc_99?\n",
    "\n",
    "amnt = ____\n",
    "print(f'mean loan amount for debt consolidation for most annual incomes: {amnt:0.2f}')"
   ]
  },
  {
   "cell_type": "code",
   "execution_count": null,
   "metadata": {},
   "outputs": [],
   "source": [
    "# One purpose of this dataset is to attempt to predict loan outcome.\n",
    "# Here, we'll create 2 plots, one of loan_amnt overall and another with loan_amnt by outcome.\n",
    "\n",
    "# 21. (2pt) create a subplot with 1 row and 2 columns with figsize of (12,4)\n",
    "fig,ax = ____\n",
    "\n",
    "# 22. (1pt) on the first set of axes (ax[0]) use distplot to plot the distribution of loan_amnt\n",
    "____;\n",
    "\n",
    "# 23. (1pt) set the title on the first plot to be 'Loan Amount Overall'\n",
    "____;\n",
    "\n",
    "# 24. (2pt) on the second set of axes (ax[1]) \n",
    "#    use loc and distplot to plot loan_amnt where df.outcome == 'paid off' and set label='paid off'\n",
    "____;\n",
    "\n",
    "# 25. (2pt) again on the second set of axes (ax[1]) \n",
    "#    use loc and distplot to plot loan_amnt where df.outcome == 'default' and set label='default'\n",
    "____;\n",
    "\n",
    "# 26. (1pt) set the title on the second plot to be 'Loan Amount by Outcome'\n",
    "____;\n",
    "\n",
    "# 27. (1pt) finally, add a legend to ax[1]\n",
    "____;"
   ]
  },
  {
   "cell_type": "markdown",
   "metadata": {},
   "source": [
    "## Part 2: Hypothesis Testing with an A/B test"
   ]
  },
  {
   "cell_type": "markdown",
   "metadata": {},
   "source": [
    "Suppose we work at a large company that is developing online data science tools.\n",
    "\n",
    "Currently the tool has interface type A but we'd like to know if using interface tool B might be more efficient.\n",
    "To measure this, we'll look at length of active work on a project (aka project length).\n",
    "\n",
    "We'll perform an A/B test where half of the projects will use interface A and half will use interface B."
   ]
  },
  {
   "cell_type": "code",
   "execution_count": null,
   "metadata": {},
   "outputs": [],
   "source": [
    "# 28. (2pt) Read in project lengths from '../data/project_lengths' into df_project and print out its .info\n",
    "df_project = ____\n",
    "____"
   ]
  },
  {
   "cell_type": "code",
   "execution_count": null,
   "metadata": {},
   "outputs": [],
   "source": [
    "# 29. (3pt) calculate the difference in mean project length between interface A and B (mean B - mean A)\n",
    "#     print the result with 2 significant digits\n",
    "observed_mean_diff = ____\n",
    "print(f'observed difference: {____}')"
   ]
  },
  {
   "cell_type": "code",
   "execution_count": null,
   "metadata": {},
   "outputs": [],
   "source": [
    "# We'll perform a permutation test to see how significant this result is\n",
    "# generate 10000 random permutation samples of mean difference\n",
    "\n",
    "rand_mean_diffs = [] \n",
    "n_samples = 10000\n",
    "combined_times = np.concatenate([df_project.lengths_A.values, df_project.lengths_B.values])\n",
    "n_A = sum(df_project.lengths_A.notnull()) # number of observations for page A\n",
    "\n",
    "for i in range(n_samples):\n",
    "    \n",
    "    # 30. (1pt) get a random permutation of combined_times\n",
    "    rand_perm = ____\n",
    "    \n",
    "    # 31. (1pt) take the mean of the first n_A random values\n",
    "    rand_mean_A = ____\n",
    "    \n",
    "    # 32. (1pt) take the mean of the remaining random values\n",
    "    rand_mean_B = ____\n",
    "    \n",
    "    # 33. (1pt) append the difference (rand_mean_B - rand_mean_A) to rand_mean_diffs\n",
    "    ____\n",
    "    \n",
    "# check that we have the correct amount of data by printing out the length of rand_mean_diffs\n",
    "# this should equal n_samples\n",
    "print(len(rand_mean_diffs))"
   ]
  },
  {
   "cell_type": "code",
   "execution_count": null,
   "metadata": {},
   "outputs": [],
   "source": [
    "# Before we plot the data, let's transform all values to their z-score\n",
    "\n",
    "# 34. (1pt) calculate the sample mean of our rand_mean_diffs using np.mean\n",
    "mean_rand_mean_diffs = ____\n",
    "\n",
    "# 35. (1pt) calculate the sample standard deviation using np.std\n",
    "std_rand_mean_diffs = ____\n",
    "\n",
    "# 36. (2pt) transform rand_mean_diffs to rand_mean_diffs_zscore by subtracting the mean and dividing by the std dev\n",
    "rand_mean_diffs_zscore = ____\n",
    "\n",
    "# 37. (2pt) transform the observed_mean_diff to observed_mean_diff_zscore by subtracting the mean and dividing by the std dev\n",
    "observed_mean_diff_zscore = ____"
   ]
  },
  {
   "cell_type": "code",
   "execution_count": null,
   "metadata": {},
   "outputs": [],
   "source": [
    "# 38. (2pt) Use seaborn distplot to plot the distribution of rand_mean_diffs_zscore, capture the return in ax\n",
    "ax = ____;\n",
    "\n",
    "# 39. (2pt) use ax.vlines with *ax.get_ylim() to plot a line at our observed_mean_diff_zscore\n",
    "____;"
   ]
  },
  {
   "cell_type": "code",
   "execution_count": null,
   "metadata": {},
   "outputs": [],
   "source": [
    "# the plot seems to indicate a likely difference in scores\n",
    "# \n",
    "# 40. (3pt) calculate a two-tailed p_value (to three significant digits)\n",
    "#    using np.abs, len rand_mean_diffs and observed_mean_diff\n",
    "p_value = ____\n",
    "print(f'p_value: {p_value:0.3f}')"
   ]
  }
 ],
 "metadata": {
  "kernelspec": {
   "display_name": "eods-f19",
   "language": "python",
   "name": "eods-f19"
  },
  "language_info": {
   "codemirror_mode": {
    "name": "ipython",
    "version": 3
   },
   "file_extension": ".py",
   "mimetype": "text/x-python",
   "name": "python",
   "nbconvert_exporter": "python",
   "pygments_lexer": "ipython3",
   "version": "3.7.4"
  }
 },
 "nbformat": 4,
 "nbformat_minor": 2
}
